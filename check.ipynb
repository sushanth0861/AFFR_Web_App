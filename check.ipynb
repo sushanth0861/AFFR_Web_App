{
 "cells": [
  {
   "cell_type": "code",
   "execution_count": 1,
   "metadata": {},
   "outputs": [],
   "source": [
    "from tensorflow.compat.v1 import ConfigProto\n",
    "from tensorflow.compat.v1 import InteractiveSession\n",
    "config = ConfigProto()\n",
    "config.gpu_options.allow_growth = True\n",
    "session = InteractiveSession(config=config)"
   ]
  },
  {
   "cell_type": "code",
   "execution_count": 2,
   "metadata": {},
   "outputs": [],
   "source": [
    "import streamlit as st\n",
    "import pickle\n",
    "import tensorflow as tf\n",
    "from tensorflow.keras.models import load_model\n",
    "from itertools import islice\n",
    "def prep(message):\n",
    "\tpreprocessed_reviews=[message]\n",
    "\tvocab=set()\n",
    "\tfor review in preprocessed_reviews:\n",
    "\t    for each_word in review.split(' '):\n",
    "\t        if each_word not in vocab:\n",
    "\t            vocab.add(each_word)\n",
    "\n",
    "\tvocab=list(vocab)\n",
    "\tall_words=len(vocab)\n",
    "\n",
    "\tvocab_count=dict.fromkeys(vocab,0)\n",
    "\tfor review in preprocessed_reviews:\n",
    "\t    for word in review.split():\n",
    "\t        vocab_count[word]+=1\n",
    "\n",
    "\tcounts=dict()\n",
    "\tfor key_value_pair in sorted(vocab_count,key=vocab_count.get,reverse=True):\n",
    "\t    counts[key_value_pair]=vocab_count[key_value_pair]\n",
    "\t    \n",
    "\twith_index=list(islice(counts.items(),len(counts)))\n",
    "\twith_index=[list(i) for i in with_index]\n",
    "\n",
    "\tindex=0\n",
    "\tfor i in with_index:\n",
    "\t    with_index[with_index.index(i)].append(with_index.index(i)+1)\n",
    "\n",
    "\twith_index[0]\n",
    "\n",
    "\twords=[i[0] for i in with_index]\n",
    "\tsorted_index=[i[2] for i in with_index]\n",
    "\twords_and_index=dict(zip(words,sorted_index))\n",
    "\n",
    "\tnew_preprocessed_reviews=[]\n",
    "\tfor sentance in preprocessed_reviews:\n",
    "\t    each_review=[]\n",
    "\t    for word in sentance.split(' '):\n",
    "\t        each_review.append(words_and_index[word])\n",
    "\t    new_preprocessed_reviews.append(each_review)\n",
    "\treturn new_preprocessed_reviews"
   ]
  },
  {
   "cell_type": "code",
   "execution_count": 3,
   "metadata": {},
   "outputs": [],
   "source": [
    "def predict(message):\n",
    "\tmodel=load_model('/home/sushanth/Desktop/data_app/review_rating.h5',compile = False)\n",
    "\tpredictions = model.predict(prep(message))\n",
    "\treturn predictions\n",
    "\n",
    "st.title(\"Review Sentiment Analyzer\")\n",
    "\n",
    "message = st.text_area(\"Enter Review\",\"Type Here ..\")\n",
    "\n",
    "if st.button(\"Analyze\"):\n",
    "\twith st.spinner(\"Analyzing the text …\"):\n",
    "\t\tprediction=predict(message)\n",
    "\t\tif prediction > 0.6:\n",
    "\t\t\tst.success(\"Positive review with {:.2f} confidence\".format(prediction))\n",
    "\t\t\tst.balloons()\n",
    "\t\telif prediction <0.4:\n",
    "\t\t\tst.error(\"Negative review with {:.2f} confidence\".format(1-prediction))\n",
    "\t\telse:\n",
    "\t\t\tst.warning(\"Not sure! Try to add some more words\")"
   ]
  },
  {
   "cell_type": "code",
   "execution_count": 4,
   "metadata": {},
   "outputs": [
    {
     "name": "stdout",
     "output_type": "stream",
     "text": [
      "WARNING:tensorflow:Model was constructed with shape (None, 600) for input Tensor(\"embedding_input:0\", shape=(None, 600), dtype=float32), but it was called on an input with incompatible shape (None, 65).\n"
     ]
    },
    {
     "name": "stderr",
     "output_type": "stream",
     "text": [
      "2020-09-20 17:24:55.941 WARNING tensorflow: Model was constructed with shape (None, 600) for input Tensor(\"embedding_input:0\", shape=(None, 600), dtype=float32), but it was called on an input with incompatible shape (None, 65).\n"
     ]
    },
    {
     "name": "stdout",
     "output_type": "stream",
     "text": [
      "[[0.999902]]\n"
     ]
    }
   ],
   "source": [
    "print(predict(\"I am totally unhappy with the product i received. It is not a vaccum packing and even the quality of the almonds is not good. The outer pack seemed to be opened and i doubt the product has been changed on the way by someone. I have used SNS service to get monthly delivery of 1 kg pack but now i am leaving this service\"))"
   ]
  },
  {
   "cell_type": "code",
   "execution_count": 5,
   "metadata": {},
   "outputs": [
    {
     "name": "stdout",
     "output_type": "stream",
     "text": [
      "\u001b[0m\n",
      "\u001b[34m\u001b[1m  You can now view your Streamlit app in your browser.\u001b[0m\n",
      "\u001b[0m\n",
      "\u001b[34m  Local URL: \u001b[0m\u001b[1mhttp://localhost:8501\u001b[0m\n",
      "\u001b[34m  Network URL: \u001b[0m\u001b[1mhttp://192.168.31.241:8501\u001b[0m\n",
      "\u001b[0m\n",
      "2020-09-20 17:32:42.969287: I tensorflow/core/platform/cpu_feature_guard.cc:143] Your CPU supports instructions that this TensorFlow binary was not compiled to use: SSE4.1 SSE4.2 AVX AVX2 FMA\n",
      "2020-09-20 17:32:42.993641: I tensorflow/core/platform/profile_utils/cpu_utils.cc:102] CPU Frequency: 1999965000 Hz\n",
      "2020-09-20 17:32:42.994575: I tensorflow/compiler/xla/service/service.cc:168] XLA service 0x7efc1806ef80 initialized for platform Host (this does not guarantee that XLA will be used). Devices:\n",
      "2020-09-20 17:32:42.994635: I tensorflow/compiler/xla/service/service.cc:176]   StreamExecutor device (0): Host, Default Version\n",
      "2020-09-20 17:32:43.000768: I tensorflow/stream_executor/platform/default/dso_loader.cc:44] Successfully opened dynamic library libcuda.so.1\n",
      "2020-09-20 17:32:43.005708: I tensorflow/stream_executor/cuda/cuda_gpu_executor.cc:981] successful NUMA node read from SysFS had negative value (-1), but there must be at least one NUMA node, so returning NUMA node zero\n",
      "2020-09-20 17:32:43.006032: I tensorflow/core/common_runtime/gpu/gpu_device.cc:1561] Found device 0 with properties: \n",
      "pciBusID: 0000:01:00.0 name: GeForce MX150 computeCapability: 6.1\n",
      "coreClock: 1.5315GHz coreCount: 3 deviceMemorySize: 3.95GiB deviceMemoryBandwidth: 44.76GiB/s\n",
      "2020-09-20 17:32:43.006216: I tensorflow/stream_executor/platform/default/dso_loader.cc:44] Successfully opened dynamic library libcudart.so.10.1\n",
      "2020-09-20 17:32:43.007773: I tensorflow/stream_executor/platform/default/dso_loader.cc:44] Successfully opened dynamic library libcublas.so.10\n",
      "2020-09-20 17:32:43.009544: I tensorflow/stream_executor/platform/default/dso_loader.cc:44] Successfully opened dynamic library libcufft.so.10\n",
      "2020-09-20 17:32:43.009888: I tensorflow/stream_executor/platform/default/dso_loader.cc:44] Successfully opened dynamic library libcurand.so.10\n",
      "2020-09-20 17:32:43.011746: I tensorflow/stream_executor/platform/default/dso_loader.cc:44] Successfully opened dynamic library libcusolver.so.10\n",
      "2020-09-20 17:32:43.012796: I tensorflow/stream_executor/platform/default/dso_loader.cc:44] Successfully opened dynamic library libcusparse.so.10\n",
      "2020-09-20 17:32:43.017012: I tensorflow/stream_executor/platform/default/dso_loader.cc:44] Successfully opened dynamic library libcudnn.so.7\n",
      "2020-09-20 17:32:43.017171: I tensorflow/stream_executor/cuda/cuda_gpu_executor.cc:981] successful NUMA node read from SysFS had negative value (-1), but there must be at least one NUMA node, so returning NUMA node zero\n",
      "2020-09-20 17:32:43.017528: I tensorflow/stream_executor/cuda/cuda_gpu_executor.cc:981] successful NUMA node read from SysFS had negative value (-1), but there must be at least one NUMA node, so returning NUMA node zero\n",
      "2020-09-20 17:32:43.017774: I tensorflow/core/common_runtime/gpu/gpu_device.cc:1703] Adding visible gpu devices: 0\n",
      "2020-09-20 17:32:43.017822: I tensorflow/stream_executor/platform/default/dso_loader.cc:44] Successfully opened dynamic library libcudart.so.10.1\n",
      "2020-09-20 17:32:43.072607: I tensorflow/core/common_runtime/gpu/gpu_device.cc:1102] Device interconnect StreamExecutor with strength 1 edge matrix:\n",
      "2020-09-20 17:32:43.072640: I tensorflow/core/common_runtime/gpu/gpu_device.cc:1108]      0 \n",
      "2020-09-20 17:32:43.072650: I tensorflow/core/common_runtime/gpu/gpu_device.cc:1121] 0:   N \n",
      "2020-09-20 17:32:43.072837: I tensorflow/stream_executor/cuda/cuda_gpu_executor.cc:981] successful NUMA node read from SysFS had negative value (-1), but there must be at least one NUMA node, so returning NUMA node zero\n",
      "2020-09-20 17:32:43.073306: I tensorflow/stream_executor/cuda/cuda_gpu_executor.cc:981] successful NUMA node read from SysFS had negative value (-1), but there must be at least one NUMA node, so returning NUMA node zero\n",
      "2020-09-20 17:32:43.073699: I tensorflow/stream_executor/cuda/cuda_gpu_executor.cc:981] successful NUMA node read from SysFS had negative value (-1), but there must be at least one NUMA node, so returning NUMA node zero\n",
      "2020-09-20 17:32:43.074057: I tensorflow/core/common_runtime/gpu/gpu_device.cc:1247] Created TensorFlow device (/job:localhost/replica:0/task:0/device:GPU:0 with 2795 MB memory) -> physical GPU (device: 0, name: GeForce MX150, pci bus id: 0000:01:00.0, compute capability: 6.1)\n",
      "2020-09-20 17:32:43.076164: I tensorflow/compiler/xla/service/service.cc:168] XLA service 0x7efc1afeaee0 initialized for platform CUDA (this does not guarantee that XLA will be used). Devices:\n",
      "2020-09-20 17:32:43.076183: I tensorflow/compiler/xla/service/service.cc:176]   StreamExecutor device (0): GeForce MX150, Compute Capability 6.1\n",
      "2020-09-20 17:33:09.423725: I tensorflow/stream_executor/cuda/cuda_gpu_executor.cc:981] successful NUMA node read from SysFS had negative value (-1), but there must be at least one NUMA node, so returning NUMA node zero\n",
      "2020-09-20 17:33:09.424108: I tensorflow/core/common_runtime/gpu/gpu_device.cc:1561] Found device 0 with properties: \n",
      "pciBusID: 0000:01:00.0 name: GeForce MX150 computeCapability: 6.1\n",
      "coreClock: 1.5315GHz coreCount: 3 deviceMemorySize: 3.95GiB deviceMemoryBandwidth: 44.76GiB/s\n",
      "2020-09-20 17:33:09.424165: I tensorflow/stream_executor/platform/default/dso_loader.cc:44] Successfully opened dynamic library libcudart.so.10.1\n",
      "2020-09-20 17:33:09.424186: I tensorflow/stream_executor/platform/default/dso_loader.cc:44] Successfully opened dynamic library libcublas.so.10\n",
      "2020-09-20 17:33:09.424206: I tensorflow/stream_executor/platform/default/dso_loader.cc:44] Successfully opened dynamic library libcufft.so.10\n",
      "2020-09-20 17:33:09.424225: I tensorflow/stream_executor/platform/default/dso_loader.cc:44] Successfully opened dynamic library libcurand.so.10\n",
      "2020-09-20 17:33:09.424244: I tensorflow/stream_executor/platform/default/dso_loader.cc:44] Successfully opened dynamic library libcusolver.so.10\n",
      "2020-09-20 17:33:09.424263: I tensorflow/stream_executor/platform/default/dso_loader.cc:44] Successfully opened dynamic library libcusparse.so.10\n",
      "2020-09-20 17:33:09.424282: I tensorflow/stream_executor/platform/default/dso_loader.cc:44] Successfully opened dynamic library libcudnn.so.7\n",
      "2020-09-20 17:33:09.424360: I tensorflow/stream_executor/cuda/cuda_gpu_executor.cc:981] successful NUMA node read from SysFS had negative value (-1), but there must be at least one NUMA node, so returning NUMA node zero\n",
      "2020-09-20 17:33:09.424873: I tensorflow/stream_executor/cuda/cuda_gpu_executor.cc:981] successful NUMA node read from SysFS had negative value (-1), but there must be at least one NUMA node, so returning NUMA node zero\n",
      "2020-09-20 17:33:09.425392: I tensorflow/core/common_runtime/gpu/gpu_device.cc:1703] Adding visible gpu devices: 0\n",
      "2020-09-20 17:33:09.425436: I tensorflow/core/common_runtime/gpu/gpu_device.cc:1102] Device interconnect StreamExecutor with strength 1 edge matrix:\n",
      "2020-09-20 17:33:09.425449: I tensorflow/core/common_runtime/gpu/gpu_device.cc:1108]      0 \n",
      "2020-09-20 17:33:09.425462: I tensorflow/core/common_runtime/gpu/gpu_device.cc:1121] 0:   N \n",
      "2020-09-20 17:33:09.425602: I tensorflow/stream_executor/cuda/cuda_gpu_executor.cc:981] successful NUMA node read from SysFS had negative value (-1), but there must be at least one NUMA node, so returning NUMA node zero\n",
      "2020-09-20 17:33:09.426136: I tensorflow/stream_executor/cuda/cuda_gpu_executor.cc:981] successful NUMA node read from SysFS had negative value (-1), but there must be at least one NUMA node, so returning NUMA node zero\n",
      "2020-09-20 17:33:09.426442: I tensorflow/core/common_runtime/gpu/gpu_device.cc:1247] Created TensorFlow device (/job:localhost/replica:0/task:0/device:GPU:0 with 2795 MB memory) -> physical GPU (device: 0, name: GeForce MX150, pci bus id: 0000:01:00.0, compute capability: 6.1)\n",
      "/home/sushanth/anaconda3/lib/python3.7/site-packages/tensorflow/python/client/session.py:1751: UserWarning: An interactive session is already active. This can cause out-of-memory errors in some cases. You must explicitly call `InteractiveSession.close()` to release resources held by the other session(s).\n",
      "  warnings.warn('An interactive session is already active. This can '\n"
     ]
    },
    {
     "name": "stdout",
     "output_type": "stream",
     "text": [
      "2020-09-20 17:33:09.591966: I tensorflow/stream_executor/cuda/cuda_gpu_executor.cc:981] successful NUMA node read from SysFS had negative value (-1), but there must be at least one NUMA node, so returning NUMA node zero\n",
      "2020-09-20 17:33:09.592410: I tensorflow/core/common_runtime/gpu/gpu_device.cc:1561] Found device 0 with properties: \n",
      "pciBusID: 0000:01:00.0 name: GeForce MX150 computeCapability: 6.1\n",
      "coreClock: 1.5315GHz coreCount: 3 deviceMemorySize: 3.95GiB deviceMemoryBandwidth: 44.76GiB/s\n",
      "2020-09-20 17:33:09.592500: I tensorflow/stream_executor/platform/default/dso_loader.cc:44] Successfully opened dynamic library libcudart.so.10.1\n",
      "2020-09-20 17:33:09.592545: I tensorflow/stream_executor/platform/default/dso_loader.cc:44] Successfully opened dynamic library libcublas.so.10\n",
      "2020-09-20 17:33:09.592569: I tensorflow/stream_executor/platform/default/dso_loader.cc:44] Successfully opened dynamic library libcufft.so.10\n",
      "2020-09-20 17:33:09.592621: I tensorflow/stream_executor/platform/default/dso_loader.cc:44] Successfully opened dynamic library libcurand.so.10\n",
      "2020-09-20 17:33:09.592655: I tensorflow/stream_executor/platform/default/dso_loader.cc:44] Successfully opened dynamic library libcusolver.so.10\n",
      "2020-09-20 17:33:09.592693: I tensorflow/stream_executor/platform/default/dso_loader.cc:44] Successfully opened dynamic library libcusparse.so.10\n",
      "2020-09-20 17:33:09.592716: I tensorflow/stream_executor/platform/default/dso_loader.cc:44] Successfully opened dynamic library libcudnn.so.7\n",
      "2020-09-20 17:33:09.592818: I tensorflow/stream_executor/cuda/cuda_gpu_executor.cc:981] successful NUMA node read from SysFS had negative value (-1), but there must be at least one NUMA node, so returning NUMA node zero\n",
      "2020-09-20 17:33:09.593287: I tensorflow/stream_executor/cuda/cuda_gpu_executor.cc:981] successful NUMA node read from SysFS had negative value (-1), but there must be at least one NUMA node, so returning NUMA node zero\n",
      "2020-09-20 17:33:09.593605: I tensorflow/core/common_runtime/gpu/gpu_device.cc:1703] Adding visible gpu devices: 0\n",
      "2020-09-20 17:33:09.593640: I tensorflow/core/common_runtime/gpu/gpu_device.cc:1102] Device interconnect StreamExecutor with strength 1 edge matrix:\n",
      "2020-09-20 17:33:09.593652: I tensorflow/core/common_runtime/gpu/gpu_device.cc:1108]      0 \n",
      "2020-09-20 17:33:09.593663: I tensorflow/core/common_runtime/gpu/gpu_device.cc:1121] 0:   N \n",
      "2020-09-20 17:33:09.593770: I tensorflow/stream_executor/cuda/cuda_gpu_executor.cc:981] successful NUMA node read from SysFS had negative value (-1), but there must be at least one NUMA node, so returning NUMA node zero\n",
      "2020-09-20 17:33:09.594147: I tensorflow/stream_executor/cuda/cuda_gpu_executor.cc:981] successful NUMA node read from SysFS had negative value (-1), but there must be at least one NUMA node, so returning NUMA node zero\n",
      "2020-09-20 17:33:09.594522: I tensorflow/core/common_runtime/gpu/gpu_device.cc:1247] Created TensorFlow device (/job:localhost/replica:0/task:0/device:GPU:0 with 2795 MB memory) -> physical GPU (device: 0, name: GeForce MX150, pci bus id: 0000:01:00.0, compute capability: 6.1)\n",
      "2020-09-20 17:33:09.610649: I tensorflow/stream_executor/cuda/cuda_gpu_executor.cc:981] successful NUMA node read from SysFS had negative value (-1), but there must be at least one NUMA node, so returning NUMA node zero\n",
      "2020-09-20 17:33:09.610954: I tensorflow/core/common_runtime/gpu/gpu_device.cc:1561] Found device 0 with properties: \n",
      "pciBusID: 0000:01:00.0 name: GeForce MX150 computeCapability: 6.1\n",
      "coreClock: 1.5315GHz coreCount: 3 deviceMemorySize: 3.95GiB deviceMemoryBandwidth: 44.76GiB/s\n",
      "2020-09-20 17:33:09.611017: I tensorflow/stream_executor/platform/default/dso_loader.cc:44] Successfully opened dynamic library libcudart.so.10.1\n",
      "2020-09-20 17:33:09.611035: I tensorflow/stream_executor/platform/default/dso_loader.cc:44] Successfully opened dynamic library libcublas.so.10\n",
      "2020-09-20 17:33:09.611050: I tensorflow/stream_executor/platform/default/dso_loader.cc:44] Successfully opened dynamic library libcufft.so.10\n",
      "2020-09-20 17:33:09.611065: I tensorflow/stream_executor/platform/default/dso_loader.cc:44] Successfully opened dynamic library libcurand.so.10\n",
      "2020-09-20 17:33:09.611080: I tensorflow/stream_executor/platform/default/dso_loader.cc:44] Successfully opened dynamic library libcusolver.so.10\n",
      "2020-09-20 17:33:09.611094: I tensorflow/stream_executor/platform/default/dso_loader.cc:44] Successfully opened dynamic library libcusparse.so.10\n",
      "2020-09-20 17:33:09.611109: I tensorflow/stream_executor/platform/default/dso_loader.cc:44] Successfully opened dynamic library libcudnn.so.7\n",
      "2020-09-20 17:33:09.611168: I tensorflow/stream_executor/cuda/cuda_gpu_executor.cc:981] successful NUMA node read from SysFS had negative value (-1), but there must be at least one NUMA node, so returning NUMA node zero\n",
      "2020-09-20 17:33:09.611427: I tensorflow/stream_executor/cuda/cuda_gpu_executor.cc:981] successful NUMA node read from SysFS had negative value (-1), but there must be at least one NUMA node, so returning NUMA node zero\n",
      "2020-09-20 17:33:09.611645: I tensorflow/core/common_runtime/gpu/gpu_device.cc:1703] Adding visible gpu devices: 0\n",
      "2020-09-20 17:33:09.611875: I tensorflow/stream_executor/cuda/cuda_gpu_executor.cc:981] successful NUMA node read from SysFS had negative value (-1), but there must be at least one NUMA node, so returning NUMA node zero\n",
      "2020-09-20 17:33:09.612120: I tensorflow/core/common_runtime/gpu/gpu_device.cc:1561] Found device 0 with properties: \n",
      "pciBusID: 0000:01:00.0 name: GeForce MX150 computeCapability: 6.1\n",
      "coreClock: 1.5315GHz coreCount: 3 deviceMemorySize: 3.95GiB deviceMemoryBandwidth: 44.76GiB/s\n",
      "2020-09-20 17:33:09.612145: I tensorflow/stream_executor/platform/default/dso_loader.cc:44] Successfully opened dynamic library libcudart.so.10.1\n",
      "2020-09-20 17:33:09.612161: I tensorflow/stream_executor/platform/default/dso_loader.cc:44] Successfully opened dynamic library libcublas.so.10\n",
      "2020-09-20 17:33:09.612175: I tensorflow/stream_executor/platform/default/dso_loader.cc:44] Successfully opened dynamic library libcufft.so.10\n",
      "2020-09-20 17:33:09.612190: I tensorflow/stream_executor/platform/default/dso_loader.cc:44] Successfully opened dynamic library libcurand.so.10\n",
      "2020-09-20 17:33:09.612204: I tensorflow/stream_executor/platform/default/dso_loader.cc:44] Successfully opened dynamic library libcusolver.so.10\n",
      "2020-09-20 17:33:09.612218: I tensorflow/stream_executor/platform/default/dso_loader.cc:44] Successfully opened dynamic library libcusparse.so.10\n",
      "2020-09-20 17:33:09.612232: I tensorflow/stream_executor/platform/default/dso_loader.cc:44] Successfully opened dynamic library libcudnn.so.7\n",
      "2020-09-20 17:33:09.612278: I tensorflow/stream_executor/cuda/cuda_gpu_executor.cc:981] successful NUMA node read from SysFS had negative value (-1), but there must be at least one NUMA node, so returning NUMA node zero\n",
      "2020-09-20 17:33:09.612531: I tensorflow/stream_executor/cuda/cuda_gpu_executor.cc:981] successful NUMA node read from SysFS had negative value (-1), but there must be at least one NUMA node, so returning NUMA node zero\n",
      "2020-09-20 17:33:09.612768: I tensorflow/core/common_runtime/gpu/gpu_device.cc:1703] Adding visible gpu devices: 0\n",
      "2020-09-20 17:33:09.612792: I tensorflow/core/common_runtime/gpu/gpu_device.cc:1102] Device interconnect StreamExecutor with strength 1 edge matrix:\n",
      "2020-09-20 17:33:09.612800: I tensorflow/core/common_runtime/gpu/gpu_device.cc:1108]      0 \n",
      "2020-09-20 17:33:09.612807: I tensorflow/core/common_runtime/gpu/gpu_device.cc:1121] 0:   N \n",
      "2020-09-20 17:33:09.612876: I tensorflow/stream_executor/cuda/cuda_gpu_executor.cc:981] successful NUMA node read from SysFS had negative value (-1), but there must be at least one NUMA node, so returning NUMA node zero\n",
      "2020-09-20 17:33:09.613175: I tensorflow/stream_executor/cuda/cuda_gpu_executor.cc:981] successful NUMA node read from SysFS had negative value (-1), but there must be at least one NUMA node, so returning NUMA node zero\n",
      "2020-09-20 17:33:09.613492: I tensorflow/core/common_runtime/gpu/gpu_device.cc:1247] Created TensorFlow device (/job:localhost/replica:0/task:0/device:GPU:0 with 2795 MB memory) -> physical GPU (device: 0, name: GeForce MX150, pci bus id: 0000:01:00.0, compute capability: 6.1)\n"
     ]
    },
    {
     "name": "stdout",
     "output_type": "stream",
     "text": [
      "2020-09-20 17:33:10.524 Model was constructed with shape (None, 600) for input Tensor(\"embedding_input:0\", shape=(None, 600), dtype=float32), but it was called on an input with incompatible shape (None, 4).\n",
      "2020-09-20 17:33:10.878894: I tensorflow/stream_executor/platform/default/dso_loader.cc:44] Successfully opened dynamic library libcublas.so.10\n",
      "2020-09-20 17:33:11.023568: I tensorflow/stream_executor/platform/default/dso_loader.cc:44] Successfully opened dynamic library libcudnn.so.7\n",
      "^C\n",
      "\u001b[34m  Stopping...\u001b[0m\n"
     ]
    }
   ],
   "source": [
    "!streamlit run review_rating.py"
   ]
  },
  {
   "cell_type": "code",
   "execution_count": 14,
   "metadata": {},
   "outputs": [
    {
     "data": {
      "text/plain": [
       "[PhysicalDevice(name='/physical_device:GPU:0', device_type='GPU')]"
      ]
     },
     "execution_count": 14,
     "metadata": {},
     "output_type": "execute_result"
    }
   ],
   "source": [
    "tf.config.list_physical_devices(device_type='GPU')"
   ]
  },
  {
   "cell_type": "code",
   "execution_count": null,
   "metadata": {},
   "outputs": [],
   "source": []
  }
 ],
 "metadata": {
  "kernelspec": {
   "display_name": "Python 3",
   "language": "python",
   "name": "python3"
  },
  "language_info": {
   "codemirror_mode": {
    "name": "ipython",
    "version": 3
   },
   "file_extension": ".py",
   "mimetype": "text/x-python",
   "name": "python",
   "nbconvert_exporter": "python",
   "pygments_lexer": "ipython3",
   "version": "3.7.6"
  }
 },
 "nbformat": 4,
 "nbformat_minor": 4
}
